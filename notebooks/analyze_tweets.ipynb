{
 "cells": [
  {
   "cell_type": "markdown",
   "metadata": {
    "ExecuteTime": {
     "end_time": "2021-06-12T20:27:14.019706Z",
     "start_time": "2021-06-12T20:27:14.003711Z"
    }
   },
   "source": [
    "# Load libraries"
   ]
  },
  {
   "cell_type": "code",
   "execution_count": 37,
   "metadata": {
    "ExecuteTime": {
     "end_time": "2021-06-13T11:44:39.871427Z",
     "start_time": "2021-06-13T11:44:36.362676Z"
    }
   },
   "outputs": [],
   "source": [
    "import pandas as pd\n",
    "import re\n",
    "\n",
    "from nltk.stem.porter import PorterStemmer\n",
    "from nltk.corpus import stopwords\n",
    "\n",
    "from sklearn.feature_extraction.text import CountVectorizer\n",
    "from sklearn.naive_bayes import GaussianNB\n",
    "from sklearn.metrics import confusion_matrix, accuracy_score\n",
    "from sklearn.model_selection import train_test_split\n",
    "\n",
    "from src.visualization.visualize import plot_confusion_matrix"
   ]
  },
  {
   "cell_type": "markdown",
   "metadata": {},
   "source": [
    "# Functions"
   ]
  },
  {
   "cell_type": "code",
   "execution_count": 33,
   "metadata": {
    "ExecuteTime": {
     "end_time": "2021-06-13T10:46:39.834161Z",
     "start_time": "2021-06-13T10:46:39.814194Z"
    }
   },
   "outputs": [],
   "source": [
    "def preprocessing(sentiments):\n",
    "    corpus = []\n",
    "    for sentiment in sentiments:\n",
    "        sentiment = re.sub('[^a-zA-Z]', ' ', sentiment)\n",
    "        sentiment = sentiment.lower()\n",
    "        sentiment = sentiment.split()\n",
    "        \n",
    "        ps = PorterStemmer()\n",
    "        all_stopwords = stopwords.words('english')\n",
    "        all_stopwords.remove('not')\n",
    "        \n",
    "        sentiment = [ps.stem(word) for word in sentiment if not word in set(all_stopwords)]\n",
    "        sentiment = ' '.join(sentiment)\n",
    "        corpus.append(sentiment)\n",
    "    return corpus\n",
    "\n",
    "def bag_of_words(corpus, tweets):\n",
    "    cv = CountVectorizer(max_features = 1500)\n",
    "    X = cv.fit_transform(corpus).toarray()\n",
    "    \n",
    "    y = tweets.iloc[:, -1].values\n",
    "    \n",
    "    return X, y\n",
    "\n",
    "def gaussiannb(X_train, y_train, X_test):\n",
    "    gaussian_model = GaussianNB()\n",
    "    gaussian_model.fit(X_train, y_train)\n",
    "    y_pred = gaussian_model.predict(X_test)\n",
    "    return y_pred"
   ]
  },
  {
   "cell_type": "markdown",
   "metadata": {},
   "source": [
    "# Load data"
   ]
  },
  {
   "cell_type": "code",
   "execution_count": 34,
   "metadata": {
    "ExecuteTime": {
     "end_time": "2021-06-13T10:46:40.275202Z",
     "start_time": "2021-06-13T10:46:40.157992Z"
    }
   },
   "outputs": [
    {
     "name": "stdout",
     "output_type": "stream",
     "text": [
      "(50000, 2)\n"
     ]
    }
   ],
   "source": [
    "tweets = pd.read_csv('../data/external/tweets/tweets.csv')\n",
    "tweets['Sentiment'] = tweets['Sentiment'].map({'neg': 0, 'pos':1})\n",
    "tweets = tweets[['SentimentText', 'Sentiment']]\n",
    "tweets.head()\n",
    "print(tweets.shape)"
   ]
  },
  {
   "cell_type": "code",
   "execution_count": 35,
   "metadata": {
    "ExecuteTime": {
     "end_time": "2021-06-13T10:47:03.196216Z",
     "start_time": "2021-06-13T10:46:40.401478Z"
    }
   },
   "outputs": [
    {
     "name": "stdout",
     "output_type": "stream",
     "text": [
      "[[3421 2357]\n",
      " [1735 4987]]\n"
     ]
    }
   ],
   "source": [
    "corpus = preprocessing(tweets['SentimentText'])\n",
    "X, y = bag_of_words(corpus, tweets)\n",
    "X_train, X_test, y_train, y_test = train_test_split(X, y)\n",
    "y_pred = gaussiannb(X_train, y_train, X_test)\n",
    "cm = confusion_matrix(y_test, y_pred)\n",
    "print(cm)"
   ]
  },
  {
   "cell_type": "code",
   "execution_count": 38,
   "metadata": {
    "ExecuteTime": {
     "end_time": "2021-06-13T11:44:40.284787Z",
     "start_time": "2021-06-13T11:44:39.998664Z"
    }
   },
   "outputs": [
    {
     "data": {
      "image/png": "[encoded data removed]",
      "text/plain": [
       "<Figure size 576x432 with 2 Axes>"
      ]
     },
     "metadata": {
      "needs_background": "light"
     },
     "output_type": "display_data"
    }
   ],
   "source": [
    "plot_confusion_matrix(cm, ['Good', 'Bad'])"
   ]
  }
 ],
 "metadata": {
  "kernelspec": {
   "display_name": "Python 3",
   "language": "python",
   "name": "python3"
  },
  "language_info": {
   "codemirror_mode": {
    "name": "ipython",
    "version": 3
   },
   "file_extension": ".py",
   "mimetype": "text/x-python",
   "name": "python",
   "nbconvert_exporter": "python",
   "pygments_lexer": "ipython3",
   "version": "3.8.5"
  },
  "toc": {
   "base_numbering": 1,
   "nav_menu": {},
   "number_sections": true,
   "sideBar": true,
   "skip_h1_title": false,
   "title_cell": "Table of Contents",
   "title_sidebar": "Contents",
   "toc_cell": false,
   "toc_position": {},
   "toc_section_display": true,
   "toc_window_display": false
  },
  "varInspector": {
   "cols": {
    "lenName": 16,
    "lenType": 16,
    "lenVar": 40
   },
   "kernels_config": {
    "python": {
     "delete_cmd_postfix": "",
     "delete_cmd_prefix": "del ",
     "library": "var_list.py",
     "varRefreshCmd": "print(var_dic_list())"
    },
    "r": {
     "delete_cmd_postfix": ") ",
     "delete_cmd_prefix": "rm(",
     "library": "var_list.r",
     "varRefreshCmd": "cat(var_dic_list()) "
    }
   },
   "types_to_exclude": [
    "module",
    "function",
    "builtin_function_or_method",
    "instance",
    "_Feature"
   ],
   "window_display": false
  }
 },
 "nbformat": 4,
 "nbformat_minor": 4
}
